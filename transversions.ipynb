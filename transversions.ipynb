{
 "metadata": {
  "name": "",
  "signature": "sha256:f8af2b1f4da85ab9fa1db2672771dbab9739413ba1fa879b30b55f47e825094d"
 },
 "nbformat": 3,
 "nbformat_minor": 0,
 "worksheets": [
  {
   "cells": [
    {
     "cell_type": "code",
     "collapsed": false,
     "input": [
      "inn='''>Rosalind_0209 \n",
      "GCAACGCACAACGAAAACCCTTAGGGACTGGATTATTTCGTGATCGTTGTAGTTATTGGA\n",
      "AGTACGGGCATCAACCCAGTT \n",
      ">Rosalind_2200 \n",
      "TTATCTGACAAAGAAAGCCGTCAACGGCTGGATAATTTCGCGATCGTGCTGGTTACTGGC\n",
      "GGTACGAGTGTTCCTTTGGGT\n",
      "'''\n",
      "\n",
      "def fasta(s):\n",
      "    s+='>'\n",
      "    m=[]\n",
      "    c=s.find('>')\n",
      "    while(c < len(s)-1):\n",
      "        b=s.find('\\n',c)\n",
      "        c=s.find('>',b)\n",
      "        m.append(s[b+1:c].replace('\\n',''))\n",
      "    return m\n",
      "\n",
      "flist=fasta(inn)\n",
      "\n",
      "trans=0\n",
      "transv=0\n",
      "\n",
      "for i in range(len(flist[0])-1):\n",
      "    nuc1= flist[0][i]\n",
      "    nuc2= flist[1][i]\n",
      "    if nuc1==nuc2:\n",
      "        pass\n",
      "    elif nuc1=='A' and nuc2=='G' or nuc2=='A' and nuc1=='G' or nuc1=='C' and nuc2=='T' or nuc2=='C' and nuc1=='T':\n",
      "        trans+=1\n",
      "    else:\n",
      "        transv+=1\n",
      "        \n",
      "    \n",
      "\n",
      "print(float(trans)/float(transv))\n"
     ],
     "language": "python",
     "metadata": {},
     "outputs": [
      {
       "output_type": "stream",
       "stream": "stdout",
       "text": [
        "1.21428571429\n"
       ]
      }
     ],
     "prompt_number": 7
    },
    {
     "cell_type": "code",
     "collapsed": false,
     "input": [],
     "language": "python",
     "metadata": {},
     "outputs": []
    }
   ],
   "metadata": {}
  }
 ]
}
