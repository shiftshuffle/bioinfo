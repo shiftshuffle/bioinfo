{
 "metadata": {
  "name": "",
  "signature": "sha256:e79020c0092aa76ed1dc8ab64d924d5cbb297ac04c7faaed2c9b0df0d3250283"
 },
 "nbformat": 3,
 "nbformat_minor": 0,
 "worksheets": [
  {
   "cells": [
    {
     "cell_type": "code",
     "collapsed": false,
     "input": [
      "import numpy as np\n",
      "\n",
      "text='''4 4\n",
      "1 0 2 4 3\n",
      "4 6 5 2 1\n",
      "4 4 5 2 1\n",
      "5 6 8 5 3\n",
      "-\n",
      "3 2 4 0\n",
      "3 2 4 2\n",
      "0 7 3 3\n",
      "3 3 0 2\n",
      "1 3 2 2\n",
      "'''\n",
      "\n",
      "def lin(e):\n",
      "    e+='\\n'\n",
      "    r=[]\n",
      "    a=0\n",
      "    b=e.find('\\n')\n",
      "    for i in range(3):\n",
      "        while (b < len(text)-1): \n",
      "            b=e.find('\\n',a+1)\n",
      "            r.append(e[a:b].replace('\\n',''))\n",
      "            a=b\n",
      "    return r\n",
      "\n",
      "\n",
      "m=lin(text)        \n",
      "q=m.pop(0)\n",
      "stop=m.index('-')\n",
      "\n",
      "w=''\n",
      "w1=''\n",
      "for i in range(stop):\n",
      "    w+=m[i]+'; '\n",
      "\n",
      "for i in range(stop+1,len(m)):\n",
      "    w1+=m[i]+'; '\n",
      "\n",
      "\n",
      " \n",
      "n=int(q[0:q.find(' ')]) \n",
      "m=int(q[q.find(' ')+1:])\n",
      "\n",
      "D = np.matrix( w[:-2] )\n",
      "R = np.matrix( w1[:-2] )\n",
      "S = np.zeros((n+1,m+1),dtype=int) \n",
      "\n",
      "\n",
      "for i in range(n):\n",
      "    S[i+1,0]=S[i,0]+D[i,0]\n",
      "    \n",
      "for j in range(m):\n",
      "    S[0,j+1]=S[0,j]+R[0,j]\n",
      "    \n",
      "for j in range(m):\n",
      "    for i in range(n):\n",
      "        S[1+i,1+j]=max(S[i,1+j]+D[i,1+j] , S[1+i,j]+R[1+i,j])\n",
      "    \n",
      "\n",
      "print S[n,m]\n",
      "\n",
      "\n"
     ],
     "language": "python",
     "metadata": {},
     "outputs": [
      {
       "output_type": "stream",
       "stream": "stdout",
       "text": [
        "34\n"
       ]
      }
     ],
     "prompt_number": 2
    }
   ],
   "metadata": {}
  }
 ]
}
