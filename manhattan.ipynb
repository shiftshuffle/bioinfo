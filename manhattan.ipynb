{
 "metadata": {
  "name": "",
  "signature": "sha256:a60addb330567482f447631ce20ffa4081ef88f6081cee6ef6b49dd1e9fb123d"
 },
 "nbformat": 3,
 "nbformat_minor": 0,
 "worksheets": [
  {
   "cells": [
    {
     "cell_type": "code",
     "collapsed": false,
     "input": [
      "import numpy as np\n",
      "\n",
      "text='''4 4\n",
      "1 0 2 4 3\n",
      "4 6 5 2 1\n",
      "4 4 5 2 1\n",
      "5 6 8 5 3\n",
      "-\n",
      "3 2 4 0\n",
      "3 2 4 2\n",
      "0 7 3 3\n",
      "3 3 0 2\n",
      "1 3 2 2\n",
      "'''\n",
      "\n",
      "'''\n",
      "r=[]\n",
      "for line in text:\n",
      "\tfor word in line.split():\n",
      "\t\tr.append(word)\n",
      "'''\n",
      "\n",
      "n=4\n",
      "m=4\n",
      "\n",
      "D = np.matrix('1 0 2 4 3; 4 6 5 2 1; 4 4 5 2 1; 5 6 8 5 3')\n",
      "R = np.matrix('3 2 4 0; 3 2 4 2; 0 7 3 3; 3 3 0 2; 1 3 2 2')\n",
      "S = np.zeros((n+1,m+1),dtype=int) \n",
      "\n",
      "\n",
      "for i in range(n):\n",
      "    S[i+1,0]=S[i,0]+D[i,0]\n",
      "    \n",
      "for j in range(m):\n",
      "    S[0,j+1]=S[0,j]+R[0,j]\n",
      "    \n",
      "for j in range(m):\n",
      "    for i in range(n):\n",
      "        S[1+i,1+j]=max(S[i,1+j]+D[i,1+j] , S[1+i,j]+R[1+i,j])\n",
      "    \n",
      "\n",
      "print S[n,m]\n",
      "\n"
     ],
     "language": "python",
     "metadata": {},
     "outputs": [
      {
       "output_type": "stream",
       "stream": "stdout",
       "text": [
        "34\n"
       ]
      }
     ],
     "prompt_number": 37
    },
    {
     "cell_type": "code",
     "collapsed": false,
     "input": [],
     "language": "python",
     "metadata": {},
     "outputs": []
    }
   ],
   "metadata": {}
  }
 ]
}
