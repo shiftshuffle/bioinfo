{
 "metadata": {
  "name": "",
  "signature": "sha256:ac05d4dff54dc2d9cc70cabd274b6980e3bcd1a336cca150a7e25f8ef5552d8f"
 },
 "nbformat": 3,
 "nbformat_minor": 0,
 "worksheets": [
  {
   "cells": [
    {
     "cell_type": "code",
     "collapsed": false,
     "input": [
      "import string\n",
      "from string import maketrans\n",
      "\n",
      "conv = string.maketrans(\"ATCG\", \"TAGC\")\n",
      "\n",
      "def is_pal(n):\n",
      "    if n[:int(len(n)/2)].translate(conv)[::-1] == n[int(len(n)/2):]: \n",
      "        return True\n",
      "    else:\n",
      "        return False\n",
      "\n",
      "\n",
      "s='''TCAATGCATGCGGGTCTATATGCAT'''\n",
      "\n",
      "out=[]\n",
      "\n",
      "for i in range(len(s)):\n",
      "    for k in range(2,7):\n",
      "        if is_pal(s[i:i+k*2]) and i+2*k <= len(s):\n",
      "            out.append((i+1,k*2))\n",
      "\n",
      "print(out)\n",
      "\n",
      "\n"
     ],
     "language": "python",
     "metadata": {},
     "outputs": [
      {
       "output_type": "stream",
       "stream": "stdout",
       "text": [
        "[(4, 6), (5, 4), (6, 6), (7, 4), (17, 4), (18, 4), (20, 6), (21, 4)]\n"
       ]
      }
     ],
     "prompt_number": 2
    }
   ],
   "metadata": {}
  }
 ]
}
