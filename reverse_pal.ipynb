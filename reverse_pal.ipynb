{
 "metadata": {
  "name": "",
  "signature": "sha256:977863e1ee85e8613c1086a3d0d35f7429aafb6662437c90223f8e0a5e4392cc"
 },
 "nbformat": 3,
 "nbformat_minor": 0,
 "worksheets": [
  {
   "cells": [
    {
     "cell_type": "code",
     "collapsed": false,
     "input": [
      "from string import maketrans\n",
      "\n",
      "conv = string.maketrans(\"ATCG\", \"TAGC\")\n",
      "\n",
      "def is_pal(n):\n",
      "\t\tif n[:int(len(n)/2)].translate(conv)[::-1] == n[int(len(n)/2):]: \n",
      "\t\t\t\treturn True\n",
      "\t\telse:\n",
      "\t\t    return False\n",
      "\n",
      "\n",
      "s='''TCAATGCATGCGGGTCTATATGCAT'''\n",
      "\n",
      "out=[]\n",
      "\n",
      "for i in range(len(s)):\n",
      "\t\tfor k in range(2,7):\n",
      "\t\t\t\t\tif is_pal(s[i:i+k*2]) and i+2*k <= len(s):\n",
      "\t\t\t\t\t\t\tout.append((i+1,k*2))\n",
      "\t\t\t\t\t\t\t\n",
      "print(out)\n",
      "\t\t\t\t\t\t\t\n",
      "\n"
     ],
     "language": "python",
     "metadata": {},
     "outputs": [
      {
       "ename": "NameError",
       "evalue": "name 'string' is not defined",
       "output_type": "pyerr",
       "traceback": [
        "\u001b[1;31m---------------------------------------------------------------------------\u001b[0m",
        "\u001b[1;31mNameError\u001b[0m                                 Traceback (most recent call last)",
        "\u001b[1;32m<ipython-input-1-0e55d2c89b02>\u001b[0m in \u001b[0;36m<module>\u001b[1;34m()\u001b[0m\n\u001b[0;32m      1\u001b[0m \u001b[1;32mfrom\u001b[0m \u001b[0mstring\u001b[0m \u001b[1;32mimport\u001b[0m \u001b[0mmaketrans\u001b[0m\u001b[1;33m\u001b[0m\u001b[0m\n\u001b[0;32m      2\u001b[0m \u001b[1;33m\u001b[0m\u001b[0m\n\u001b[1;32m----> 3\u001b[1;33m \u001b[0mconv\u001b[0m \u001b[1;33m=\u001b[0m \u001b[0mstring\u001b[0m\u001b[1;33m.\u001b[0m\u001b[0mmaketrans\u001b[0m\u001b[1;33m(\u001b[0m\u001b[1;34m\"ATCG\"\u001b[0m\u001b[1;33m,\u001b[0m \u001b[1;34m\"TAGC\"\u001b[0m\u001b[1;33m)\u001b[0m\u001b[1;33m\u001b[0m\u001b[0m\n\u001b[0m\u001b[0;32m      4\u001b[0m \u001b[1;33m\u001b[0m\u001b[0m\n\u001b[0;32m      5\u001b[0m \u001b[1;32mdef\u001b[0m \u001b[0mis_pal\u001b[0m\u001b[1;33m(\u001b[0m\u001b[0mn\u001b[0m\u001b[1;33m)\u001b[0m\u001b[1;33m:\u001b[0m\u001b[1;33m\u001b[0m\u001b[0m\n",
        "\u001b[1;31mNameError\u001b[0m: name 'string' is not defined"
       ]
      }
     ],
     "prompt_number": 1
    },
    {
     "cell_type": "code",
     "collapsed": false,
     "input": [],
     "language": "python",
     "metadata": {},
     "outputs": []
    }
   ],
   "metadata": {}
  }
 ]
}
