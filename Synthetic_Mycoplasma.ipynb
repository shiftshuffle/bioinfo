{
 "cells": [
  {
   "cell_type": "markdown",
   "metadata": {},
   "source": [
    "## nucleotide message :)\n",
    "lets see if i found some message here\n",
    "[JCVI-syn1.0](http://www.ncbi.nlm.nih.gov/nuccore/296455217?report=fasta)\n",
    "\n",
    "\n",
    "(i erased the secret mail to them :p)"
   ]
  },
  {
   "cell_type": "code",
   "execution_count": 1,
   "metadata": {
    "collapsed": false
   },
   "outputs": [],
   "source": [
    "dic=[ \"TAG\" => 97, \"GCA\" => 107, \"TCC\" => 117, \"AGA\" => 52, \"CAC\" => 47,\n",
    "     \"AGT\" => 98,  \"AAC\" => 108, \"TTG\" => 118, \"GCG\" => 53, \"CCA\" => 61,\n",
    "     \"TTT\" => 99,  \"CAA\" => 109, \"GTC\" => 119, \"GCC\" => 54, \"CGA\" => 46,\n",
    "     \"ATT\" => 100, \"TGC\" => 110, \"GGT\" => 120, \"TAT\" => 55, \"GAG\" => 33,\n",
    "     \"TAA\" => 101, \"CGT\" => 111, \"CAT\" => 121, \"CGC\" => 56, \"CAG\" => 58,\n",
    "     \"GGC\" => 102, \"ACA\" => 112, \"TGG\" => 122, \"GTA\" => 57, \"GGA\" => 34,\n",
    "     \"TAC\" => 103, \"TTA\" => 113, \"TCT\" => 48,  \"ATA\" => 32, \"GTG\"=> 44,\n",
    "     \"TCA\" => 104, \"CTA\" => 114, \"CTT\" => 49,  \"GGG\" => 10, \"TCG\" => 64,\n",
    "     \"CTG\" => 105, \"GCT\" => 115, \"ACT\" => 50,  \"AGC\" => 62, \"CCC\" => 45,\n",
    "     \"GTT\" => 106, \"TGA\" => 116, \"AAT\" => 51,  \"CGG\" => 60];"
   ]
  },
  {
   "cell_type": "code",
   "execution_count": 1,
   "metadata": {
    "collapsed": false
   },
   "outputs": [
    {
     "name": "stdout",
     "output_type": "stream",
     "text": [
      "q2>eclyde hutchison, adriana jiga, radha krishnakumar, jan moy, monzia moodie, marvin frazier, holly baden-tilson, jason mitchell, dana busam, justin johnson, lakshmi devi viswanathan, jessica hostetler, robert friedman, vladimir noskov, jayshree zaveri. \n",
      "\"see things not as they are, but as they might be.\"\n",
      "\n",
      "q2>ej. craig venter institute 2009\n",
      "abcdefghijklmnopqrstuvwxyz\n",
      " 0123456789@-=/:<>\"!.,\n",
      "synthetic genomics, inc.\n",
      "<!doctype html><html><head><title>genome team</title></head><body><a href=\"http://www.jcvi.org/\">the jcvi</a><p>prove youve decoded this watermark by emailing us <a href=\"mailto:solveit\">here!</a></p></body></html>f5\n",
      "\n",
      "q2>emikkel algire, michael montague, sanjay vashee, carole lartigue, chuck merryman, nina alperovich, nacyra assad-garcia, gwyn benders, ray-yuan chuang, evgenia denisova, daniel gibson, john glass, zhi-qing qi.\n",
      "\"to live, to err, to fall, to triumph, to recreate life out of life.\" - james joycef5\n",
      "\n",
      "q2>ecynthia andrews-pfannkoch, quang phan, li ma, hamilton smith, adi ramon, christian tagwerker, j craig venter, eula wilturner, lei young, shibu yooseph, prabha iyer, tim stockwell, diana radune, bridget szczypinski, scott durkin, nadia fedorova, javier quinones, hanna tekleab.\n",
      "\"what i cannot build, i cannot understand.\" - richard feynmanf5\n",
      "\n"
     ]
    }
   ],
   "source": [
    "file = open(\"Synthetic_M.fasta\",\"r\")\n",
    "readline(file)\n",
    "lines=readlines(file)\n",
    "\n",
    "for i= 1:length(lines)\n",
    "    lines[i]=lines[i][1:length(lines[i])-1]\n",
    "end\n",
    "\n",
    "sample=join(lines)\n",
    "close(file)\n",
    "\n",
    "# println(sample[length(sample)-20:length(sample)])\n",
    "\n",
    "passphrase=\"TTAACTAGCTAA\"\n",
    "stop=0\n",
    "for k=1:4\n",
    "\n",
    "    start=search(sample,passphrase,stop+1)[1]\n",
    "    stop=search(sample,passphrase,start+1)[1]\n",
    "\n",
    "    w=\"\"\n",
    "    for i=start:3:stop-1\n",
    "        u=sample[i:i+2]\n",
    "        if haskey(dic,u)\n",
    "            w*=string(char(dic[u]))\n",
    "        end\n",
    "    end\n",
    "    print(w)\n",
    "    print(\"\\n\\n\")\n",
    "end\n",
    "\n",
    "\n"
   ]
  }
 ],
 "metadata": {
  "kernelspec": {
   "display_name": "Julia",
   "language": "julia",
   "name": "julia 0.3"
  },
  "language_info": {
   "name": "julia",
   "version": "0.3.8"
  }
 },
 "nbformat": 4,
 "nbformat_minor": 0
}
