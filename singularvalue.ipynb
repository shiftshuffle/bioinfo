{
 "cells": [
  {
   "cell_type": "code",
   "execution_count": 62,
   "metadata": {
    "collapsed": false
   },
   "outputs": [
    {
     "name": "stdout",
     "output_type": "stream",
     "text": [
      "[-0.7071067811865475 -0.7071067811865474\n",
      " -0.7071067811865474 0.7071067811865477]\n",
      "\n",
      "[2.4494897427831783 0.0\n",
      " 0.0 1.1102230246251568e-16]\n",
      "\n",
      "[-0.5773502691896257 -0.8164965809277259\n",
      " -0.5773502691896257 0.4082482904638628\n",
      " 0.5773502691896257 -0.408248290463863]"
     ]
    },
    {
     "data": {
      "text/plain": [
       "2x3 Array{Float64,2}:\n",
       " 1.0  1.0  -1.0\n",
       " 1.0  1.0  -1.0"
      ]
     },
     "execution_count": 62,
     "metadata": {},
     "output_type": "execute_result"
    }
   ],
   "source": [
    "A = [1 1 -1; 1 1 -1]\n",
    "\n",
    "F=svdfact(A)\n",
    "(U,S,Vt) = (F[:U], F[:S],F[:Vt])\n",
    "\n",
    "\n",
    "print(U,'\\n','\\n',diagm(S),'\\n','\\n',V)\n",
    "R=U*diagm(S)*Vt\n"
   ]
  }
 ],
 "metadata": {
  "kernelspec": {
   "display_name": "Julia 0.3.7",
   "language": "julia",
   "name": "julia 0.3"
  },
  "language_info": {
   "name": "julia",
   "version": "0.3.7"
  },
  "name": "singularvalue.ipynb"
 },
 "nbformat": 4,
 "nbformat_minor": 0
}
